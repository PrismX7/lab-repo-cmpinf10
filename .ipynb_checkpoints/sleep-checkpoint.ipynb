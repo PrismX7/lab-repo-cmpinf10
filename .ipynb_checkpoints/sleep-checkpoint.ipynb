{
 "cells": [
  {
   "cell_type": "code",
   "execution_count": 1,
   "id": "b76ad581-7fac-40a8-b405-dda3627a86c6",
   "metadata": {},
   "outputs": [
    {
     "name": "stdout",
     "output_type": "stream",
     "text": [
      "Welcome to Sleep Coach!\n"
     ]
    },
    {
     "name": "stdin",
     "output_type": "stream",
     "text": [
      "What's your name?  Susam \n",
      "Enter your sleep hours for recent days (comma-separated, e.g., 7.5, 6, 8, 7, 6.5, 8, 7):\n",
      ">  8\n"
     ]
    },
    {
     "name": "stdout",
     "output_type": "stream",
     "text": [
      "Please enter at least two valid numbers.\n"
     ]
    },
    {
     "name": "stdin",
     "output_type": "stream",
     "text": [
      "Try again (e.g., 7.5, 6, 8, 7):\n",
      ">  6.5\n"
     ]
    },
    {
     "name": "stdout",
     "output_type": "stream",
     "text": [
      "Please enter at least two valid numbers.\n"
     ]
    },
    {
     "name": "stdin",
     "output_type": "stream",
     "text": [
      "Try again (e.g., 7.5, 6, 8, 7):\n",
      ">  8 7.5\n"
     ]
    },
    {
     "name": "stdout",
     "output_type": "stream",
     "text": [
      "\n",
      "===== Sleep Report =====\n",
      "Name: Susam\n",
      "Days tracked: 2\n",
      "Average hours/night: 7.75\n",
      "Most sleep: 8.0 hours (Day 1)\n",
      "Least sleep: 7.5 hours (Day 2)\n",
      "Consistency (lower is better) — stdev: 0.25\n",
      "Sleep Grade: A — Great job—your sleep duration is on point.\n",
      "Tip on consistency: Your schedule is consistent—nice! Keep the same sleep/wake window.\n"
     ]
    }
   ],
   "source": [
    "# sleep coach\n",
    "\n",
    "from statistics import mean, pstdev\n",
    "\n",
    "def parse_hours(raw: str):\n",
    "    raw = raw.replace(\",\", \" \")\n",
    "    parts = [p for p in raw.split() if p.strip()]\n",
    "    hours = []\n",
    "    for p in parts:\n",
    "        try:\n",
    "            hours.append(float(p))\n",
    "        except ValueError:\n",
    "            print(f\"⚠️ Skipping invalid entry: '{p}'\")\n",
    "    return hours\n",
    "\n",
    "def grade_sleep(avg):\n",
    "    if avg >= 8.5:\n",
    "        return \"A+\", \"You're getting good rest. Keep it up!\"\n",
    "    if avg >= 7.5:\n",
    "        return \"A\", \"Great job—your sleep duration is on point.\"\n",
    "    if avg >= 7.0:\n",
    "        return \"B\", \"Decent. A little more consistency could make it better.\"\n",
    "    if avg >= 6.0:\n",
    "        return \"C\", \"You're getting by, try nudging your bedtime earlier.\"\n",
    "    if avg >= 5.0:\n",
    "        return \"D\", \"You're running a sleep deficit. Aim for earlier wind-down.\"\n",
    "    return \"F\", \"Severely underslept—prioritize a consistent schedule this week.\"\n",
    "\n",
    "print(\"Welcome to Sleep Coach!\")\n",
    "name = input(\"What's your name? \").strip() or \"Friend\"\n",
    "\n",
    "raw_hours = input(\n",
    "    \"Enter your sleep hours for recent days (comma-separated, e.g., 7.5, 6, 8, 7, 6.5, 8, 7):\\n> \"\n",
    ")\n",
    "hours = parse_hours(raw_hours)\n",
    "\n",
    "while len(hours) < 2:\n",
    "    print(\"Please enter at least two valid numbers.\")\n",
    "    raw_hours = input(\"Try again (e.g., 7.5, 6, 8, 7):\\n> \")\n",
    "    hours = parse_hours(raw_hours)\n",
    "\n",
    "avg = round(mean(hours), 2)\n",
    "min_val, max_val = min(hours), max(hours)\n",
    "min_idx, max_idx = hours.index(min_val), hours.index(max_val)\n",
    "variability = round(pstdev(hours), 2) if len(hours) > 1 else 0.0\n",
    "letter, summary = grade_sleep(avg)\n",
    "\n",
    "print(\"\\n===== Sleep Report =====\")\n",
    "print(f\"Name: {name}\")\n",
    "print(f\"Days tracked: {len(hours)}\")\n",
    "print(f\"Average hours/night: {avg}\")\n",
    "print(f\"Most sleep: {max_val} hours (Day {max_idx + 1})\")\n",
    "print(f\"Least sleep: {min_val} hours (Day {min_idx + 1})\")\n",
    "print(f\"Consistency (lower is better) — stdev: {variability}\")\n",
    "print(f\"Sleep Grade: {letter} — {summary}\")\n",
    "\n",
    "# Consistency tip\n",
    "if variability <= 0.7:\n",
    "    consistency_tip = \"Your schedule is consistent—nice! Keep the same sleep/wake window.\"\n",
    "elif variability <= 1.5:\n",
    "    consistency_tip = \"Not bad—try a steady bedtime to tighten consistency a bit.\"\n",
    "else:\n",
    "    consistency_tip = \"Large swings detected. Set a regular wind-down and avoid late caffeine.\"\n",
    "print(f\"Tip on consistency: {consistency_tip}\")\n",
    "\n",
    "# Extra micro-tip\n",
    "if min_val < 6:\n",
    "    print(\"Extra tip: Nights under 6 hours add up. Aim for at least one 'recovery' night (7.5–8.5h).\")\n",
    "\n"
   ]
  },
  {
   "cell_type": "code",
   "execution_count": 1,
   "id": "609f4b53-28d2-4b3d-b9b1-2a9ea74da61b",
   "metadata": {},
   "outputs": [
    {
     "name": "stdout",
     "output_type": "stream",
     "text": [
      "Welcome to Sleep Coach!\n"
     ]
    },
    {
     "name": "stdin",
     "output_type": "stream",
     "text": [
      "What's your name?  Susam \n",
      "Enter your sleep hours for recent days (comma-separated, e.g., 7.5, 6, 8, 7, 6.5, 8, 7):\n",
      ">  8\n"
     ]
    },
    {
     "name": "stdout",
     "output_type": "stream",
     "text": [
      "Please enter at least two valid numbers.\n"
     ]
    },
    {
     "name": "stdin",
     "output_type": "stream",
     "text": [
      "Try again (e.g., 7.5, 6, 8, 7):\n",
      ">  6.5\n"
     ]
    },
    {
     "name": "stdout",
     "output_type": "stream",
     "text": [
      "Please enter at least two valid numbers.\n"
     ]
    },
    {
     "name": "stdin",
     "output_type": "stream",
     "text": [
      "Try again (e.g., 7.5, 6, 8, 7):\n",
      ">  8 7.5\n"
     ]
    },
    {
     "name": "stdout",
     "output_type": "stream",
     "text": [
      "\n",
      "===== Sleep Report =====\n",
      "Name: Susam\n",
      "Days tracked: 2\n",
      "Average hours/night: 7.75\n",
      "Most sleep: 8.0 hours (Day 1)\n",
      "Least sleep: 7.5 hours (Day 2)\n",
      "Consistency (lower is better) — stdev: 0.25\n",
      "Sleep Grade: A — Great job—your sleep duration is on point.\n",
      "Tip on consistency: Your schedule is consistent—nice! Keep the same sleep/wake window.\n"
     ]
    }
   ],
   "source": [
    "# sleep coach\n",
    "\n",
    "from statistics import mean, pstdev\n",
    "\n",
    "def parse_hours(raw: str):\n",
    "    raw = raw.replace(\",\", \" \")\n",
    "    parts = [p for p in raw.split() if p.strip()]\n",
    "    hours = []\n",
    "    for p in parts:\n",
    "        try:\n",
    "            hours.append(float(p))\n",
    "        except ValueError:\n",
    "            print(f\"⚠️ Skipping invalid entry: '{p}'\")\n",
    "    return hours\n",
    "\n",
    "def grade_sleep(avg):\n",
    "    if avg >= 8.5:\n",
    "        return \"A+\", \"You're getting good rest. Keep it up!\"\n",
    "    if avg >= 7.5:\n",
    "        return \"A\", \"Great job—your sleep duration is on point.\"\n",
    "    if avg >= 7.0:\n",
    "        return \"B\", \"Decent. A little more consistency could make it better.\"\n",
    "    if avg >= 6.0:\n",
    "        return \"C\", \"You're getting by, try nudging your bedtime earlier.\"\n",
    "    if avg >= 5.0:\n",
    "        return \"D\", \"You're running a sleep deficit. Aim for earlier wind-down.\"\n",
    "    return \"F\", \"Severely underslept—prioritize a consistent schedule this week.\"\n",
    "\n",
    "print(\"Welcome to Sleep Coach!\")\n",
    "name = input(\"What's your name? \").strip() or \"Friend\"\n",
    "\n",
    "raw_hours = input(\n",
    "    \"Enter your sleep hours for recent days (comma-separated, e.g., 7.5, 6, 8, 7, 6.5, 8, 7):\\n> \"\n",
    ")\n",
    "hours = parse_hours(raw_hours)\n",
    "\n",
    "while len(hours) < 2:\n",
    "    print(\"Please enter at least two valid numbers.\")\n",
    "    raw_hours = input(\"Try again (e.g., 7.5, 6, 8, 7):\\n> \")\n",
    "    hours = parse_hours(raw_hours)\n",
    "\n",
    "avg = round(mean(hours), 2)\n",
    "min_val, max_val = min(hours), max(hours)\n",
    "min_idx, max_idx = hours.index(min_val), hours.index(max_val)\n",
    "variability = round(pstdev(hours), 2) if len(hours) > 1 else 0.0\n",
    "letter, summary = grade_sleep(avg)\n",
    "\n",
    "print(\"\\n===== Sleep Report =====\")\n",
    "print(f\"Name: {name}\")\n",
    "print(f\"Days tracked: {len(hours)}\")\n",
    "print(f\"Average hours/night: {avg}\")\n",
    "print(f\"Most sleep: {max_val} hours (Day {max_idx + 1})\")\n",
    "print(f\"Least sleep: {min_val} hours (Day {min_idx + 1})\")\n",
    "print(f\"Consistency (lower is better) — stdev: {variability}\")\n",
    "print(f\"Sleep Grade: {letter} — {summary}\")\n",
    "\n",
    "# Consistency tip\n",
    "if variability <= 0.7:\n",
    "    consistency_tip = \"Your schedule is consistent—nice! Keep the same sleep/wake window.\"\n",
    "elif variability <= 1.5:\n",
    "    consistency_tip = \"Not bad—try a steady bedtime to tighten consistency a bit.\"\n",
    "else:\n",
    "    consistency_tip = \"Large swings detected. Set a regular wind-down and avoid late caffeine.\"\n",
    "print(f\"Tip on consistency: {consistency_tip}\")\n",
    "\n",
    "# Extra micro-tip\n",
    "if min_val < 6:\n",
    "    print(\"Extra tip: Nights under 6 hours add up. Aim for at least one 'recovery' night (7.5–8.5h).\")\n",
    "\n"
   ]
  },
  {
   "cell_type": "code",
   "execution_count": 1,
   "id": "250146f5-70c1-47e0-9393-492dedbecbe1",
   "metadata": {},
   "outputs": [
    {
     "name": "stdout",
     "output_type": "stream",
     "text": [
      "Welcome to Sleep Coach!\n"
     ]
    },
    {
     "name": "stdin",
     "output_type": "stream",
     "text": [
      "What's your name?  Susam \n",
      "Enter your sleep hours for recent days (comma-separated, e.g., 7.5, 6, 8, 7, 6.5, 8, 7):\n",
      ">  8\n"
     ]
    },
    {
     "name": "stdout",
     "output_type": "stream",
     "text": [
      "Please enter at least two valid numbers.\n"
     ]
    },
    {
     "name": "stdin",
     "output_type": "stream",
     "text": [
      "Try again (e.g., 7.5, 6, 8, 7):\n",
      ">  6.5\n"
     ]
    },
    {
     "name": "stdout",
     "output_type": "stream",
     "text": [
      "Please enter at least two valid numbers.\n"
     ]
    },
    {
     "name": "stdin",
     "output_type": "stream",
     "text": [
      "Try again (e.g., 7.5, 6, 8, 7):\n",
      ">  8 7.5\n"
     ]
    },
    {
     "name": "stdout",
     "output_type": "stream",
     "text": [
      "\n",
      "===== Sleep Report =====\n",
      "Name: Susam\n",
      "Days tracked: 2\n",
      "Average hours/night: 7.75\n",
      "Most sleep: 8.0 hours (Day 1)\n",
      "Least sleep: 7.5 hours (Day 2)\n",
      "Consistency (lower is better) — stdev: 0.25\n",
      "Sleep Grade: A — Great job—your sleep duration is on point.\n",
      "Tip on consistency: Your schedule is consistent—nice! Keep the same sleep/wake window.\n"
     ]
    }
   ],
   "source": [
    "# sleep coach\n",
    "\n",
    "from statistics import mean, pstdev\n",
    "\n",
    "def parse_hours(raw: str):\n",
    "    raw = raw.replace(\",\", \" \")\n",
    "    parts = [p for p in raw.split() if p.strip()]\n",
    "    hours = []\n",
    "    for p in parts:\n",
    "        try:\n",
    "            hours.append(float(p))\n",
    "        except ValueError:\n",
    "            print(f\"⚠️ Skipping invalid entry: '{p}'\")\n",
    "    return hours\n",
    "\n",
    "def grade_sleep(avg):\n",
    "    if avg >= 8.5:\n",
    "        return \"A+\", \"You're getting good rest. Keep it up!\"\n",
    "    if avg >= 7.5:\n",
    "        return \"A\", \"Great job—your sleep duration is on point.\"\n",
    "    if avg >= 7.0:\n",
    "        return \"B\", \"Decent. A little more consistency could make it better.\"\n",
    "    if avg >= 6.0:\n",
    "        return \"C\", \"You're getting by, try nudging your bedtime earlier.\"\n",
    "    if avg >= 5.0:\n",
    "        return \"D\", \"You're running a sleep deficit. Aim for earlier wind-down.\"\n",
    "    return \"F\", \"Severely underslept—prioritize a consistent schedule this week.\"\n",
    "\n",
    "print(\"Welcome to Sleep Coach!\")\n",
    "name = input(\"What's your name? \").strip() or \"Friend\"\n",
    "\n",
    "raw_hours = input(\n",
    "    \"Enter your sleep hours for recent days (comma-separated, e.g., 7.5, 6, 8, 7, 6.5, 8, 7):\\n> \"\n",
    ")\n",
    "hours = parse_hours(raw_hours)\n",
    "\n",
    "while len(hours) < 2:\n",
    "    print(\"Please enter at least two valid numbers.\")\n",
    "    raw_hours = input(\"Try again (e.g., 7.5, 6, 8, 7):\\n> \")\n",
    "    hours = parse_hours(raw_hours)\n",
    "\n",
    "avg = round(mean(hours), 2)\n",
    "min_val, max_val = min(hours), max(hours)\n",
    "min_idx, max_idx = hours.index(min_val), hours.index(max_val)\n",
    "variability = round(pstdev(hours), 2) if len(hours) > 1 else 0.0\n",
    "letter, summary = grade_sleep(avg)\n",
    "\n",
    "print(\"\\n===== Sleep Report =====\")\n",
    "print(f\"Name: {name}\")\n",
    "print(f\"Days tracked: {len(hours)}\")\n",
    "print(f\"Average hours/night: {avg}\")\n",
    "print(f\"Most sleep: {max_val} hours (Day {max_idx + 1})\")\n",
    "print(f\"Least sleep: {min_val} hours (Day {min_idx + 1})\")\n",
    "print(f\"Consistency (lower is better) — stdev: {variability}\")\n",
    "print(f\"Sleep Grade: {letter} — {summary}\")\n",
    "\n",
    "# Consistency tip\n",
    "if variability <= 0.7:\n",
    "    consistency_tip = \"Your schedule is consistent—nice! Keep the same sleep/wake window.\"\n",
    "elif variability <= 1.5:\n",
    "    consistency_tip = \"Not bad—try a steady bedtime to tighten consistency a bit.\"\n",
    "else:\n",
    "    consistency_tip = \"Large swings detected. Set a regular wind-down and avoid late caffeine.\"\n",
    "print(f\"Tip on consistency: {consistency_tip}\")\n",
    "\n",
    "# Extra micro-tip\n",
    "if min_val < 6:\n",
    "    print(\"Extra tip: Nights under 6 hours add up. Aim for at least one 'recovery' night (7.5–8.5h).\")\n",
    "\n"
   ]
  },
  {
   "cell_type": "code",
   "execution_count": 1,
   "id": "4057dba1-d386-427b-8b46-35626478e600",
   "metadata": {},
   "outputs": [
    {
     "name": "stdout",
     "output_type": "stream",
     "text": [
      "Welcome to Sleep Coach!\n"
     ]
    },
    {
     "name": "stdin",
     "output_type": "stream",
     "text": [
      "What's your name?  Susam \n",
      "Enter your sleep hours for recent days (comma-separated, e.g., 7.5, 6, 8, 7, 6.5, 8, 7):\n",
      ">  8\n"
     ]
    },
    {
     "name": "stdout",
     "output_type": "stream",
     "text": [
      "Please enter at least two valid numbers.\n"
     ]
    },
    {
     "name": "stdin",
     "output_type": "stream",
     "text": [
      "Try again (e.g., 7.5, 6, 8, 7):\n",
      ">  6.5\n"
     ]
    },
    {
     "name": "stdout",
     "output_type": "stream",
     "text": [
      "Please enter at least two valid numbers.\n"
     ]
    },
    {
     "name": "stdin",
     "output_type": "stream",
     "text": [
      "Try again (e.g., 7.5, 6, 8, 7):\n",
      ">  8 7.5\n"
     ]
    },
    {
     "name": "stdout",
     "output_type": "stream",
     "text": [
      "\n",
      "===== Sleep Report =====\n",
      "Name: Susam\n",
      "Days tracked: 2\n",
      "Average hours/night: 7.75\n",
      "Most sleep: 8.0 hours (Day 1)\n",
      "Least sleep: 7.5 hours (Day 2)\n",
      "Consistency (lower is better) — stdev: 0.25\n",
      "Sleep Grade: A — Great job—your sleep duration is on point.\n",
      "Tip on consistency: Your schedule is consistent—nice! Keep the same sleep/wake window.\n"
     ]
    }
   ],
   "source": [
    "# sleep coach\n",
    "\n",
    "from statistics import mean, pstdev\n",
    "\n",
    "def parse_hours(raw: str):\n",
    "    raw = raw.replace(\",\", \" \")\n",
    "    parts = [p for p in raw.split() if p.strip()]\n",
    "    hours = []\n",
    "    for p in parts:\n",
    "        try:\n",
    "            hours.append(float(p))\n",
    "        except ValueError:\n",
    "            print(f\"⚠️ Skipping invalid entry: '{p}'\")\n",
    "    return hours\n",
    "\n",
    "def grade_sleep(avg):\n",
    "    if avg >= 8.5:\n",
    "        return \"A+\", \"You're getting good rest. Keep it up!\"\n",
    "    if avg >= 7.5:\n",
    "        return \"A\", \"Great job—your sleep duration is on point.\"\n",
    "    if avg >= 7.0:\n",
    "        return \"B\", \"Decent. A little more consistency could make it better.\"\n",
    "    if avg >= 6.0:\n",
    "        return \"C\", \"You're getting by, try nudging your bedtime earlier.\"\n",
    "    if avg >= 5.0:\n",
    "        return \"D\", \"You're running a sleep deficit. Aim for earlier wind-down.\"\n",
    "    return \"F\", \"Severely underslept—prioritize a consistent schedule this week.\"\n",
    "\n",
    "print(\"Welcome to Sleep Coach!\")\n",
    "name = input(\"What's your name? \").strip() or \"Friend\"\n",
    "\n",
    "raw_hours = input(\n",
    "    \"Enter your sleep hours for recent days (comma-separated, e.g., 7.5, 6, 8, 7, 6.5, 8, 7):\\n> \"\n",
    ")\n",
    "hours = parse_hours(raw_hours)\n",
    "\n",
    "while len(hours) < 2:\n",
    "    print(\"Please enter at least two valid numbers.\")\n",
    "    raw_hours = input(\"Try again (e.g., 7.5, 6, 8, 7):\\n> \")\n",
    "    hours = parse_hours(raw_hours)\n",
    "\n",
    "avg = round(mean(hours), 2)\n",
    "min_val, max_val = min(hours), max(hours)\n",
    "min_idx, max_idx = hours.index(min_val), hours.index(max_val)\n",
    "variability = round(pstdev(hours), 2) if len(hours) > 1 else 0.0\n",
    "letter, summary = grade_sleep(avg)\n",
    "\n",
    "print(\"\\n===== Sleep Report =====\")\n",
    "print(f\"Name: {name}\")\n",
    "print(f\"Days tracked: {len(hours)}\")\n",
    "print(f\"Average hours/night: {avg}\")\n",
    "print(f\"Most sleep: {max_val} hours (Day {max_idx + 1})\")\n",
    "print(f\"Least sleep: {min_val} hours (Day {min_idx + 1})\")\n",
    "print(f\"Consistency (lower is better) — stdev: {variability}\")\n",
    "print(f\"Sleep Grade: {letter} — {summary}\")\n",
    "\n",
    "# Consistency tip\n",
    "if variability <= 0.7:\n",
    "    consistency_tip = \"Your schedule is consistent—nice! Keep the same sleep/wake window.\"\n",
    "elif variability <= 1.5:\n",
    "    consistency_tip = \"Not bad—try a steady bedtime to tighten consistency a bit.\"\n",
    "else:\n",
    "    consistency_tip = \"Large swings detected. Set a regular wind-down and avoid late caffeine.\"\n",
    "print(f\"Tip on consistency: {consistency_tip}\")\n",
    "\n",
    "# Extra micro-tip\n",
    "if min_val < 6:\n",
    "    print(\"Extra tip: Nights under 6 hours add up. Aim for at least one 'recovery' night (7.5–8.5h).\")\n",
    "\n"
   ]
  },
  {
   "cell_type": "code",
   "execution_count": null,
   "id": "e06d3de0-2a2f-484f-9f97-416b889b9df1",
   "metadata": {},
   "outputs": [],
   "source": []
  }
 ],
 "metadata": {
  "kernelspec": {
   "display_name": "Python 3 (ipykernel)",
   "language": "python",
   "name": "python3"
  },
  "language_info": {
   "codemirror_mode": {
    "name": "ipython",
    "version": 3
   },
   "file_extension": ".py",
   "mimetype": "text/x-python",
   "name": "python",
   "nbconvert_exporter": "python",
   "pygments_lexer": "ipython3",
   "version": "3.11.13"
  }
 },
 "nbformat": 4,
 "nbformat_minor": 5
}
